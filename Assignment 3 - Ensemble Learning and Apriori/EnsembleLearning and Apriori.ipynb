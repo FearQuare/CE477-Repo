{
 "cells": [
  {
   "cell_type": "code",
   "execution_count": 1,
   "metadata": {},
   "outputs": [
    {
     "name": "stdout",
     "output_type": "stream",
     "text": [
      "originalFeatures count 8\n",
      "originalFeatures Index(['gender', 'race/ethnicity', 'parental_level_of_education', 'lunch',\n",
      "       'test_preparation_course', 'math_score', 'reading_score',\n",
      "       'writing_score'],\n",
      "      dtype='object')\n",
      "   gender race/ethnicity parental_level_of_education         lunch  \\\n",
      "0    male        group A                 high school      standard   \n",
      "1  female        group D            some high school  free/reduced   \n",
      "2    male        group E                some college  free/reduced   \n",
      "3    male        group B                 high school      standard   \n",
      "4    male        group E          associate's degree      standard   \n",
      "\n",
      "  test_preparation_course  math_score  reading_score  writing_score  \n",
      "0               completed          67             67             63  \n",
      "1                    none          40             59             55  \n",
      "2                    none          59             60             50  \n",
      "3                    none          77             78             68  \n",
      "4               completed          78             73             68  \n"
     ]
    }
   ],
   "source": [
    "import pandas as pd\n",
    "\n",
    "df = pd.read_csv('exams.csv')\n",
    "df.columns = [c.replace(' ','_') for c in df.columns]\n",
    "originalFeatures = df.columns\n",
    "print('originalFeatures count', len(originalFeatures))\n",
    "print('originalFeatures', originalFeatures)\n",
    "print(df.head())"
   ]
  },
  {
   "cell_type": "code",
   "execution_count": 2,
   "metadata": {},
   "outputs": [
    {
     "data": {
      "text/plain": [
       "gender                         0\n",
       "race/ethnicity                 0\n",
       "parental_level_of_education    0\n",
       "lunch                          0\n",
       "test_preparation_course        0\n",
       "math_score                     0\n",
       "reading_score                  0\n",
       "writing_score                  0\n",
       "dtype: int64"
      ]
     },
     "execution_count": 2,
     "metadata": {},
     "output_type": "execute_result"
    }
   ],
   "source": [
    "df.isnull().sum()"
   ]
  },
  {
   "cell_type": "code",
   "execution_count": 3,
   "metadata": {},
   "outputs": [
    {
     "data": {
      "text/html": [
       "<div>\n",
       "<style scoped>\n",
       "    .dataframe tbody tr th:only-of-type {\n",
       "        vertical-align: middle;\n",
       "    }\n",
       "\n",
       "    .dataframe tbody tr th {\n",
       "        vertical-align: top;\n",
       "    }\n",
       "\n",
       "    .dataframe thead th {\n",
       "        text-align: right;\n",
       "    }\n",
       "</style>\n",
       "<table border=\"1\" class=\"dataframe\">\n",
       "  <thead>\n",
       "    <tr style=\"text-align: right;\">\n",
       "      <th></th>\n",
       "      <th>math_score</th>\n",
       "      <th>reading_score</th>\n",
       "      <th>writing_score</th>\n",
       "    </tr>\n",
       "  </thead>\n",
       "  <tbody>\n",
       "    <tr>\n",
       "      <th>count</th>\n",
       "      <td>1000.000000</td>\n",
       "      <td>1000.000000</td>\n",
       "      <td>1000.000000</td>\n",
       "    </tr>\n",
       "    <tr>\n",
       "      <th>mean</th>\n",
       "      <td>66.396000</td>\n",
       "      <td>69.002000</td>\n",
       "      <td>67.738000</td>\n",
       "    </tr>\n",
       "    <tr>\n",
       "      <th>std</th>\n",
       "      <td>15.402871</td>\n",
       "      <td>14.737272</td>\n",
       "      <td>15.600985</td>\n",
       "    </tr>\n",
       "    <tr>\n",
       "      <th>min</th>\n",
       "      <td>13.000000</td>\n",
       "      <td>27.000000</td>\n",
       "      <td>23.000000</td>\n",
       "    </tr>\n",
       "    <tr>\n",
       "      <th>25%</th>\n",
       "      <td>56.000000</td>\n",
       "      <td>60.000000</td>\n",
       "      <td>58.000000</td>\n",
       "    </tr>\n",
       "    <tr>\n",
       "      <th>50%</th>\n",
       "      <td>66.500000</td>\n",
       "      <td>70.000000</td>\n",
       "      <td>68.000000</td>\n",
       "    </tr>\n",
       "    <tr>\n",
       "      <th>75%</th>\n",
       "      <td>77.000000</td>\n",
       "      <td>79.000000</td>\n",
       "      <td>79.000000</td>\n",
       "    </tr>\n",
       "    <tr>\n",
       "      <th>max</th>\n",
       "      <td>100.000000</td>\n",
       "      <td>100.000000</td>\n",
       "      <td>100.000000</td>\n",
       "    </tr>\n",
       "  </tbody>\n",
       "</table>\n",
       "</div>"
      ],
      "text/plain": [
       "        math_score  reading_score  writing_score\n",
       "count  1000.000000    1000.000000    1000.000000\n",
       "mean     66.396000      69.002000      67.738000\n",
       "std      15.402871      14.737272      15.600985\n",
       "min      13.000000      27.000000      23.000000\n",
       "25%      56.000000      60.000000      58.000000\n",
       "50%      66.500000      70.000000      68.000000\n",
       "75%      77.000000      79.000000      79.000000\n",
       "max     100.000000     100.000000     100.000000"
      ]
     },
     "execution_count": 3,
     "metadata": {},
     "output_type": "execute_result"
    }
   ],
   "source": [
    "df.describe()"
   ]
  },
  {
   "cell_type": "code",
   "execution_count": 4,
   "metadata": {},
   "outputs": [
    {
     "data": {
      "text/plain": [
       "none         665\n",
       "completed    335\n",
       "Name: test_preparation_course, dtype: int64"
      ]
     },
     "execution_count": 4,
     "metadata": {},
     "output_type": "execute_result"
    }
   ],
   "source": [
    "df.test_preparation_course.value_counts()"
   ]
  },
  {
   "cell_type": "code",
   "execution_count": 5,
   "metadata": {},
   "outputs": [
    {
     "data": {
      "text/plain": [
       "0.5037593984962406"
      ]
     },
     "execution_count": 5,
     "metadata": {},
     "output_type": "execute_result"
    }
   ],
   "source": [
    "335/665 #the data is slightly imbalanced but it's ok."
   ]
  },
  {
   "cell_type": "code",
   "execution_count": 6,
   "metadata": {},
   "outputs": [],
   "source": [
    "X = df[['reading_score','math_score']]\n",
    "y = df.test_preparation_course"
   ]
  },
  {
   "cell_type": "code",
   "execution_count": 7,
   "metadata": {},
   "outputs": [
    {
     "data": {
      "text/plain": [
       "array([[-0.13591401,  0.03923309],\n",
       "       [-0.67902695, -1.714564  ],\n",
       "       [-0.61113783, -0.48041049]])"
      ]
     },
     "execution_count": 7,
     "metadata": {},
     "output_type": "execute_result"
    }
   ],
   "source": [
    "from sklearn.preprocessing import StandardScaler\n",
    "\n",
    "scaler = StandardScaler()\n",
    "X_scaled = scaler.fit_transform(X)\n",
    "X_scaled[:3]"
   ]
  },
  {
   "cell_type": "code",
   "execution_count": 8,
   "metadata": {},
   "outputs": [],
   "source": [
    "from sklearn.model_selection import train_test_split\n",
    "\n",
    "X_train, X_test, y_train, y_test = train_test_split(X_scaled, y, stratify=y, random_state=10)"
   ]
  },
  {
   "cell_type": "code",
   "execution_count": 9,
   "metadata": {},
   "outputs": [
    {
     "data": {
      "text/plain": [
       "(750, 2)"
      ]
     },
     "execution_count": 9,
     "metadata": {},
     "output_type": "execute_result"
    }
   ],
   "source": [
    "X_train.shape"
   ]
  },
  {
   "cell_type": "code",
   "execution_count": 10,
   "metadata": {},
   "outputs": [
    {
     "data": {
      "text/plain": [
       "(250, 2)"
      ]
     },
     "execution_count": 10,
     "metadata": {},
     "output_type": "execute_result"
    }
   ],
   "source": [
    "X_test.shape"
   ]
  },
  {
   "cell_type": "code",
   "execution_count": 11,
   "metadata": {},
   "outputs": [
    {
     "data": {
      "text/plain": [
       "none         499\n",
       "completed    251\n",
       "Name: test_preparation_course, dtype: int64"
      ]
     },
     "execution_count": 11,
     "metadata": {},
     "output_type": "execute_result"
    }
   ],
   "source": [
    "y_train.value_counts()"
   ]
  },
  {
   "cell_type": "code",
   "execution_count": 12,
   "metadata": {},
   "outputs": [
    {
     "data": {
      "text/plain": [
       "0.503006012024048"
      ]
     },
     "execution_count": 12,
     "metadata": {},
     "output_type": "execute_result"
    }
   ],
   "source": [
    "251/499"
   ]
  },
  {
   "cell_type": "code",
   "execution_count": 13,
   "metadata": {},
   "outputs": [
    {
     "data": {
      "text/plain": [
       "array([0.61, 0.64, 0.51, 0.55, 0.6 , 0.53, 0.53, 0.58, 0.49, 0.6 ])"
      ]
     },
     "execution_count": 13,
     "metadata": {},
     "output_type": "execute_result"
    }
   ],
   "source": [
    "from sklearn.tree import DecisionTreeClassifier\n",
    "from sklearn.model_selection import cross_val_score\n",
    "\n",
    "scores = cross_val_score(DecisionTreeClassifier(), X, y, cv=10)\n",
    "scores"
   ]
  },
  {
   "cell_type": "code",
   "execution_count": 14,
   "metadata": {},
   "outputs": [
    {
     "data": {
      "text/plain": [
       "0.564"
      ]
     },
     "execution_count": 14,
     "metadata": {},
     "output_type": "execute_result"
    }
   ],
   "source": [
    "scores.mean()"
   ]
  },
  {
   "cell_type": "code",
   "execution_count": 15,
   "metadata": {},
   "outputs": [
    {
     "data": {
      "text/plain": [
       "0.5666666666666667"
      ]
     },
     "execution_count": 15,
     "metadata": {},
     "output_type": "execute_result"
    }
   ],
   "source": [
    "from sklearn.ensemble import BaggingClassifier\n",
    "\n",
    "bag_model = BaggingClassifier(base_estimator = DecisionTreeClassifier(),\n",
    "                 n_estimators = 100,\n",
    "                  max_samples=0.8,\n",
    "                  oob_score=True,\n",
    "                  random_state=0\n",
    "                 )\n",
    "bag_model.fit(X_train, y_train)\n",
    "bag_model.oob_score_"
   ]
  },
  {
   "cell_type": "code",
   "execution_count": 16,
   "metadata": {
    "scrolled": true
   },
   "outputs": [
    {
     "data": {
      "text/plain": [
       "0.616"
      ]
     },
     "execution_count": 16,
     "metadata": {},
     "output_type": "execute_result"
    }
   ],
   "source": [
    "bag_model.score(X_test, y_test)"
   ]
  },
  {
   "cell_type": "code",
   "execution_count": 17,
   "metadata": {},
   "outputs": [
    {
     "data": {
      "text/plain": [
       "0.564"
      ]
     },
     "execution_count": 17,
     "metadata": {},
     "output_type": "execute_result"
    }
   ],
   "source": [
    "bag_model = BaggingClassifier(base_estimator = DecisionTreeClassifier(),\n",
    "                 n_estimators = 100,\n",
    "                  max_samples=0.8,\n",
    "                  oob_score=True,\n",
    "                  random_state=0\n",
    "                 )\n",
    "\n",
    "cross_val_score(bag_model, X, y, cv=10)\n",
    "scores.mean()"
   ]
  },
  {
   "cell_type": "code",
   "execution_count": 18,
   "metadata": {},
   "outputs": [
    {
     "data": {
      "text/plain": [
       "0.609"
      ]
     },
     "execution_count": 18,
     "metadata": {},
     "output_type": "execute_result"
    }
   ],
   "source": [
    "from sklearn.ensemble import RandomForestClassifier\n",
    "\n",
    "scores = cross_val_score(RandomForestClassifier(), X, y, cv = 10)\n",
    "scores.mean()"
   ]
  },
  {
   "cell_type": "code",
   "execution_count": 19,
   "metadata": {},
   "outputs": [
    {
     "name": "stdout",
     "output_type": "stream",
     "text": [
      "Accuracy:  0.6\n"
     ]
    }
   ],
   "source": [
    "from sklearn.ensemble import AdaBoostClassifier\n",
    "from sklearn.metrics import accuracy_score\n",
    "weak_learner = DecisionTreeClassifier(max_depth = 3)\n",
    "clf = AdaBoostClassifier(base_estimator=weak_learner, n_estimators=100)\n",
    "clf.fit(X_train, y_train)\n",
    "predictions = clf.predict(X_test)\n",
    "accuracy = accuracy_score(y_test, predictions)\n",
    "print(\"Accuracy: \", accuracy)"
   ]
  },
  {
   "cell_type": "code",
   "execution_count": 20,
   "metadata": {},
   "outputs": [
    {
     "name": "stdout",
     "output_type": "stream",
     "text": [
      "Index(['gender', 'race/ethnicity', 'parental_level_of_education', 'lunch',\n",
      "       'test_preparation_course', 'math_score', 'reading_score',\n",
      "       'writing_score'],\n",
      "      dtype='object')\n",
      "     math_score  reading_score  writing_score  gender_female  gender_male  \\\n",
      "0      0.620690       0.547945       0.519481              0            1   \n",
      "1      0.310345       0.438356       0.415584              1            0   \n",
      "2      0.528736       0.452055       0.350649              0            1   \n",
      "3      0.735632       0.698630       0.584416              0            1   \n",
      "4      0.747126       0.630137       0.584416              0            1   \n",
      "..          ...            ...            ...            ...          ...   \n",
      "995    0.689655       0.589041       0.545455              0            1   \n",
      "996    0.827586       0.876712       0.896104              0            1   \n",
      "997    0.218391       0.109589       0.233766              1            0   \n",
      "998    0.689655       0.643836       0.766234              1            0   \n",
      "999    0.597701       0.452055       0.506494              0            1   \n",
      "\n",
      "     race/ethnicity_group A  race/ethnicity_group B  race/ethnicity_group C  \\\n",
      "0                         1                       0                       0   \n",
      "1                         0                       0                       0   \n",
      "2                         0                       0                       0   \n",
      "3                         0                       1                       0   \n",
      "4                         0                       0                       0   \n",
      "..                      ...                     ...                     ...   \n",
      "995                       0                       0                       1   \n",
      "996                       0                       0                       0   \n",
      "997                       0                       0                       1   \n",
      "998                       0                       0                       1   \n",
      "999                       1                       0                       0   \n",
      "\n",
      "     race/ethnicity_group D  race/ethnicity_group E  \\\n",
      "0                         0                       0   \n",
      "1                         1                       0   \n",
      "2                         0                       1   \n",
      "3                         0                       0   \n",
      "4                         0                       1   \n",
      "..                      ...                     ...   \n",
      "995                       0                       0   \n",
      "996                       1                       0   \n",
      "997                       0                       0   \n",
      "998                       0                       0   \n",
      "999                       0                       0   \n",
      "\n",
      "     parental_level_of_education_associate's degree  \\\n",
      "0                                                 0   \n",
      "1                                                 0   \n",
      "2                                                 0   \n",
      "3                                                 0   \n",
      "4                                                 1   \n",
      "..                                              ...   \n",
      "995                                               0   \n",
      "996                                               1   \n",
      "997                                               0   \n",
      "998                                               0   \n",
      "999                                               0   \n",
      "\n",
      "     parental_level_of_education_bachelor's degree  \\\n",
      "0                                                0   \n",
      "1                                                0   \n",
      "2                                                0   \n",
      "3                                                0   \n",
      "4                                                0   \n",
      "..                                             ...   \n",
      "995                                              0   \n",
      "996                                              0   \n",
      "997                                              0   \n",
      "998                                              0   \n",
      "999                                              0   \n",
      "\n",
      "     parental_level_of_education_high school  \\\n",
      "0                                          1   \n",
      "1                                          0   \n",
      "2                                          0   \n",
      "3                                          1   \n",
      "4                                          0   \n",
      "..                                       ...   \n",
      "995                                        1   \n",
      "996                                        0   \n",
      "997                                        0   \n",
      "998                                        0   \n",
      "999                                        0   \n",
      "\n",
      "     parental_level_of_education_master's degree  \\\n",
      "0                                              0   \n",
      "1                                              0   \n",
      "2                                              0   \n",
      "3                                              0   \n",
      "4                                              0   \n",
      "..                                           ...   \n",
      "995                                            0   \n",
      "996                                            0   \n",
      "997                                            0   \n",
      "998                                            0   \n",
      "999                                            0   \n",
      "\n",
      "     parental_level_of_education_some college  \\\n",
      "0                                           0   \n",
      "1                                           0   \n",
      "2                                           1   \n",
      "3                                           0   \n",
      "4                                           0   \n",
      "..                                        ...   \n",
      "995                                         0   \n",
      "996                                         0   \n",
      "997                                         0   \n",
      "998                                         1   \n",
      "999                                         1   \n",
      "\n",
      "     parental_level_of_education_some high school  lunch_free/reduced  \\\n",
      "0                                               0                   0   \n",
      "1                                               1                   1   \n",
      "2                                               0                   1   \n",
      "3                                               0                   0   \n",
      "4                                               0                   0   \n",
      "..                                            ...                 ...   \n",
      "995                                             0                   0   \n",
      "996                                             0                   1   \n",
      "997                                             1                   1   \n",
      "998                                             0                   0   \n",
      "999                                             0                   0   \n",
      "\n",
      "     lunch_standard  test_preparation_course_completed  \\\n",
      "0                 1                                  1   \n",
      "1                 0                                  0   \n",
      "2                 0                                  0   \n",
      "3                 1                                  0   \n",
      "4                 1                                  1   \n",
      "..              ...                                ...   \n",
      "995               1                                  0   \n",
      "996               0                                  1   \n",
      "997               0                                  0   \n",
      "998               1                                  0   \n",
      "999               1                                  1   \n",
      "\n",
      "     test_preparation_course_none  \n",
      "0                               0  \n",
      "1                               1  \n",
      "2                               1  \n",
      "3                               1  \n",
      "4                               0  \n",
      "..                            ...  \n",
      "995                             1  \n",
      "996                             0  \n",
      "997                             1  \n",
      "998                             1  \n",
      "999                             0  \n",
      "\n",
      "[1000 rows x 20 columns]\n",
      "RelationRecord(items=frozenset({0.0}), support=1.0, ordered_statistics=[OrderedStatistic(items_base=frozenset(), items_add=frozenset({0.0}), confidence=1.0, lift=1.0)])\n",
      "RelationRecord(items=frozenset({1.0}), support=1.0, ordered_statistics=[OrderedStatistic(items_base=frozenset(), items_add=frozenset({1.0}), confidence=1.0, lift=1.0)])\n",
      "RelationRecord(items=frozenset({0.0, 1.0}), support=1.0, ordered_statistics=[OrderedStatistic(items_base=frozenset(), items_add=frozenset({0.0, 1.0}), confidence=1.0, lift=1.0), OrderedStatistic(items_base=frozenset({0.0}), items_add=frozenset({1.0}), confidence=1.0, lift=1.0), OrderedStatistic(items_base=frozenset({1.0}), items_add=frozenset({0.0}), confidence=1.0, lift=1.0)])\n",
      "*********************\n"
     ]
    }
   ],
   "source": [
    "from apyori import apriori\n",
    "min_support = 0.5\n",
    "\n",
    "min_math = min(df['math_score'])\n",
    "max_math = max(df['math_score'])\n",
    "min_read = min(df['reading_score'])\n",
    "max_read = max(df['reading_score'])\n",
    "min_write = min(df['writing_score'])\n",
    "max_write = max(df['writing_score'])\n",
    "\n",
    "math_normalized = [(x - min_math) / (max_math - min_math) for x in df['math_score']]\n",
    "read_normalized = [(x - min_read) / (max_read - min_read) for x in df['reading_score']]\n",
    "write_normalized = [(x - min_write) / (max_write - min_write) for x in df['writing_score']]\n",
    "\n",
    "df['math_score'] = math_normalized\n",
    "df['reading_score'] = read_normalized\n",
    "df['writing_score'] = write_normalized\n",
    "\n",
    "print(df.columns)\n",
    "df = pd.get_dummies(df, columns=['gender','race/ethnicity','parental_level_of_education','lunch','test_preparation_course'])\n",
    "print(df)\n",
    "\n",
    "data = df.values.tolist()\n",
    "\n",
    "itemsets = apriori(data, min_support=min_support, min_confidence=0.7, max_length=3)\n",
    "\n",
    "for itemset in itemsets:\n",
    "    print(itemset)\n",
    "\n",
    "print(\"*********************\")\n",
    "\n",
    "for itemset in itemsets:\n",
    "    for rule in itemset.ordered_statistics:\n",
    "        antecedent = rule.items_base\n",
    "        consequent = rule.items_add\n",
    "        confidence = rule.confidence\n",
    "        print(f\"{antecedent} -> {consequent} (conf: {confidence:.3f})\")"
   ]
  },
  {
   "cell_type": "code",
   "execution_count": null,
   "metadata": {},
   "outputs": [],
   "source": []
  }
 ],
 "metadata": {
  "kernelspec": {
   "display_name": "Python 3",
   "language": "python",
   "name": "python3"
  },
  "language_info": {
   "codemirror_mode": {
    "name": "ipython",
    "version": 3
   },
   "file_extension": ".py",
   "mimetype": "text/x-python",
   "name": "python",
   "nbconvert_exporter": "python",
   "pygments_lexer": "ipython3",
   "version": "3.8.5"
  }
 },
 "nbformat": 4,
 "nbformat_minor": 4
}
